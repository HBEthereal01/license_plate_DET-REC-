{
  "cells": [
    {
      "cell_type": "markdown",
      "metadata": {
        "id": "t6MPjfT5NrKQ"
      },
      "source": [
        "<a align=\"left\" href=\"https://ultralytics.com/yolov5\" target=\"_blank\">\n",
        "<img width=\"1024\", src=\"https://user-images.githubusercontent.com/26833433/125273437-35b3fc00-e30d-11eb-9079-46f313325424.png\"></a>\n",
        "\n",
        "This is the **official YOLOv5 🚀 notebook** by **Ultralytics**, and is freely available for redistribution under the [GPL-3.0 license](https://choosealicense.com/licenses/gpl-3.0/). \n",
        "For more information please visit https://github.com/ultralytics/yolov5 and https://ultralytics.com. Thank you!"
      ]
    },
    {
      "cell_type": "code",
      "execution_count": null,
      "metadata": {
        "colab": {
          "base_uri": "https://localhost:8080/"
        },
        "id": "daZiL1bMG5-N",
        "outputId": "1ff3dd81-de14-47cf-e947-21e91462f087",
        "vscode": {
          "languageId": "python"
        }
      },
      "outputs": [
        {
          "name": "stdout",
          "output_type": "stream",
          "text": [
            "Mon Jun  6 07:19:13 2022       \n",
            "+-----------------------------------------------------------------------------+\n",
            "| NVIDIA-SMI 460.32.03    Driver Version: 460.32.03    CUDA Version: 11.2     |\n",
            "|-------------------------------+----------------------+----------------------+\n",
            "| GPU  Name        Persistence-M| Bus-Id        Disp.A | Volatile Uncorr. ECC |\n",
            "| Fan  Temp  Perf  Pwr:Usage/Cap|         Memory-Usage | GPU-Util  Compute M. |\n",
            "|                               |                      |               MIG M. |\n",
            "|===============================+======================+======================|\n",
            "|   0  Tesla T4            Off  | 00000000:00:04.0 Off |                    0 |\n",
            "| N/A   40C    P8    10W /  70W |      0MiB / 15109MiB |      0%      Default |\n",
            "|                               |                      |                  N/A |\n",
            "+-------------------------------+----------------------+----------------------+\n",
            "                                                                               \n",
            "+-----------------------------------------------------------------------------+\n",
            "| Processes:                                                                  |\n",
            "|  GPU   GI   CI        PID   Type   Process name                  GPU Memory |\n",
            "|        ID   ID                                                   Usage      |\n",
            "|=============================================================================|\n",
            "|  No running processes found                                                 |\n",
            "+-----------------------------------------------------------------------------+\n"
          ]
        }
      ],
      "source": [
        "!nvidia-smi"
      ]
    },
    {
      "cell_type": "code",
      "execution_count": null,
      "metadata": {
        "colab": {
          "base_uri": "https://localhost:8080/"
        },
        "id": "N7FARdELsygZ",
        "outputId": "f92e24a0-14d1-461c-ca61-6731bc167187",
        "vscode": {
          "languageId": "python"
        }
      },
      "outputs": [
        {
          "name": "stdout",
          "output_type": "stream",
          "text": [
            "/usr/local/lib/python3.7/dist-packages/gdown/cli.py:131: FutureWarning: Option `--id` was deprecated in version 4.3.1 and will be removed in 5.0. You don't need to pass it anymore to use a file ID.\n",
            "  category=FutureWarning,\n",
            "Downloading...\n",
            "From: https://drive.google.com/uc?id=1-DK8qrbyFyoz8SXohA_Msso6SWwTpSSj\n",
            "To: /content/drive/MyDrive/works/train_data.rar\n",
            "100% 376M/376M [00:07<00:00, 47.5MB/s]\n"
          ]
        }
      ],
      "source": [
        "#download letter detection data from this link https://drive.google.com/drive/folders/1vh_l4VCVZwv9f-m_0YJ2WkR9gDj1as_e?usp=sharing"
      ]
    },
    {
      "cell_type": "markdown",
      "metadata": {
        "id": "7mGmQbAO5pQb"
      },
      "source": [
        "# Setup\n",
        "\n",
        "Clone repo, install dependencies and check PyTorch and GPU."
      ]
    },
    {
      "cell_type": "code",
      "execution_count": null,
      "metadata": {
        "colab": {
          "base_uri": "https://localhost:8080/"
        },
        "id": "RmUzo9umrmtf",
        "outputId": "23c0db76-006e-45b0-feb5-bbd839da9ab5",
        "vscode": {
          "languageId": "python"
        }
      },
      "outputs": [
        {
          "name": "stdout",
          "output_type": "stream",
          "text": [
            "/content/drive/MyDrive\n",
            "Cloning into 'yolov5'...\n",
            "remote: Enumerating objects: 12958, done.\u001b[K\n",
            "remote: Total 12958 (delta 0), reused 0 (delta 0), pack-reused 12958\u001b[K\n",
            "Receiving objects: 100% (12958/12958), 11.82 MiB | 10.21 MiB/s, done.\n",
            "Resolving deltas: 100% (9006/9006), done.\n"
          ]
        }
      ],
      "source": [
        "!git clone https://github.com/ultralytics/yolov5  # clone"
      ]
    },
    {
      "cell_type": "code",
      "execution_count": null,
      "metadata": {
        "colab": {
          "base_uri": "https://localhost:8080/"
        },
        "id": "wbvMlHd_QwMG",
        "outputId": "18ffe053-afac-4d9b-a1cf-69b878210ed2",
        "vscode": {
          "languageId": "python"
        }
      },
      "outputs": [
        {
          "name": "stdout",
          "output_type": "stream",
          "text": [
            "/content/drive/MyDrive/works/yolov5\n",
            "\u001b[K     |████████████████████████████████| 596 kB 5.1 MB/s \n",
            "\u001b[?25h"
          ]
        }
      ],
      "source": [
        "%cd yolov5\n",
        "%pip install -qr requirements.txt  # install"
      ]
    },
    {
      "cell_type": "code",
      "execution_count": null,
      "metadata": {
        "colab": {
          "base_uri": "https://localhost:8080/"
        },
        "id": "1NcFxRcFdJ_O",
        "outputId": "298d65d5-5f12-49e4-98cd-7af650e263c8",
        "vscode": {
          "languageId": "python"
        }
      },
      "outputs": [
        {
          "name": "stdout",
          "output_type": "stream",
          "text": [
            "\u001b[34m\u001b[1mtrain: \u001b[0mweights=yolov5m.pt, cfg=, data=/content/drive/MyDrive/works/yolov5/data/char_detect.yaml, hyp=data/hyps/hyp.scratch-low.yaml, epochs=30, batch_size=32, imgsz=640, rect=False, resume=False, nosave=False, noval=False, noautoanchor=False, noplots=False, evolve=None, bucket=, cache=ram, image_weights=False, device=, multi_scale=False, single_cls=False, optimizer=SGD, sync_bn=False, workers=8, project=runs/train, name=exp, exist_ok=False, quad=False, cos_lr=False, label_smoothing=0.0, patience=100, freeze=[0], save_period=-1, local_rank=-1, entity=None, upload_dataset=False, bbox_interval=-1, artifact_alias=latest\n",
            "\u001b[34m\u001b[1mgithub: \u001b[0m⚠️ YOLOv5 is out of date by 89 commits. Use `git pull` or `git clone https://github.com/ultralytics/yolov5` to update.\n",
            "YOLOv5 🚀 v6.1-155-g404b4fe torch 1.11.0+cu113 CUDA:0 (Tesla T4, 15110MiB)\n",
            "\n",
            "\u001b[34m\u001b[1mhyperparameters: \u001b[0mlr0=0.01, lrf=0.01, momentum=0.937, weight_decay=0.0005, warmup_epochs=3.0, warmup_momentum=0.8, warmup_bias_lr=0.1, box=0.05, cls=0.5, cls_pw=1.0, obj=1.0, obj_pw=1.0, iou_t=0.2, anchor_t=4.0, fl_gamma=0.0, hsv_h=0.015, hsv_s=0.7, hsv_v=0.4, degrees=0.0, translate=0.1, scale=0.5, shear=0.0, perspective=0.0, flipud=0.0, fliplr=0.5, mosaic=1.0, mixup=0.0, copy_paste=0.0\n",
            "\u001b[34m\u001b[1mWeights & Biases: \u001b[0mrun 'pip install wandb' to automatically track and visualize YOLOv5 🚀 runs (RECOMMENDED)\n",
            "\u001b[34m\u001b[1mTensorBoard: \u001b[0mStart with 'tensorboard --logdir runs/train', view at http://localhost:6006/\n",
            "Overriding model.yaml nc=80 with nc=36\n",
            "\n",
            "                 from  n    params  module                                  arguments                     \n",
            "  0                -1  1      5280  models.common.Conv                      [3, 48, 6, 2, 2]              \n",
            "  1                -1  1     41664  models.common.Conv                      [48, 96, 3, 2]                \n",
            "  2                -1  2     65280  models.common.C3                        [96, 96, 2]                   \n",
            "  3                -1  1    166272  models.common.Conv                      [96, 192, 3, 2]               \n",
            "  4                -1  4    444672  models.common.C3                        [192, 192, 4]                 \n",
            "  5                -1  1    664320  models.common.Conv                      [192, 384, 3, 2]              \n",
            "  6                -1  6   2512896  models.common.C3                        [384, 384, 6]                 \n",
            "  7                -1  1   2655744  models.common.Conv                      [384, 768, 3, 2]              \n",
            "  8                -1  2   4134912  models.common.C3                        [768, 768, 2]                 \n",
            "  9                -1  1   1476864  models.common.SPPF                      [768, 768, 5]                 \n",
            " 10                -1  1    295680  models.common.Conv                      [768, 384, 1, 1]              \n",
            " 11                -1  1         0  torch.nn.modules.upsampling.Upsample    [None, 2, 'nearest']          \n",
            " 12           [-1, 6]  1         0  models.common.Concat                    [1]                           \n",
            " 13                -1  2   1182720  models.common.C3                        [768, 384, 2, False]          \n",
            " 14                -1  1     74112  models.common.Conv                      [384, 192, 1, 1]              \n",
            " 15                -1  1         0  torch.nn.modules.upsampling.Upsample    [None, 2, 'nearest']          \n",
            " 16           [-1, 4]  1         0  models.common.Concat                    [1]                           \n",
            " 17                -1  2    296448  models.common.C3                        [384, 192, 2, False]          \n",
            " 18                -1  1    332160  models.common.Conv                      [192, 192, 3, 2]              \n",
            " 19          [-1, 14]  1         0  models.common.Concat                    [1]                           \n",
            " 20                -1  2   1035264  models.common.C3                        [384, 384, 2, False]          \n",
            " 21                -1  1   1327872  models.common.Conv                      [384, 384, 3, 2]              \n",
            " 22          [-1, 10]  1         0  models.common.Concat                    [1]                           \n",
            " 23                -1  2   4134912  models.common.C3                        [768, 768, 2, False]          \n",
            " 24      [17, 20, 23]  1    165681  models.yolo.Detect                      [36, [[10, 13, 16, 30, 33, 23], [30, 61, 62, 45, 59, 119], [116, 90, 156, 198, 373, 326]], [192, 384, 768]]\n",
            "Model summary: 369 layers, 21012753 parameters, 21012753 gradients, 48.5 GFLOPs\n",
            "\n",
            "Transferred 475/481 items from yolov5m.pt\n",
            "Scaled weight_decay = 0.0005\n",
            "\u001b[34m\u001b[1moptimizer:\u001b[0m SGD with parameter groups 79 weight (no decay), 82 weight, 82 bias\n",
            "\u001b[34m\u001b[1malbumentations: \u001b[0mversion 1.0.3 required by YOLOv5, but version 0.1.12 is currently installed\n",
            "\u001b[34m\u001b[1mtrain: \u001b[0mScanning '/content/drive/MyDrive/works/data/license/labels/train.cache' images and labels... 2550 found, 0 missing, 0 empty, 0 corrupt: 100% 2550/2550 [00:00<?, ?it/s]\n",
            "\u001b[34m\u001b[1mtrain: \u001b[0mCaching images (1.8GB ram): 100% 2550/2550 [00:17<00:00, 144.41it/s]\n",
            "\u001b[34m\u001b[1mval: \u001b[0mScanning '/content/drive/MyDrive/works/data/license/labels/val.cache' images and labels... 638 found, 0 missing, 0 empty, 0 corrupt: 100% 638/638 [00:00<?, ?it/s]\n",
            "\u001b[34m\u001b[1mval: \u001b[0mCaching images (0.3GB ram): 100% 638/638 [00:04<00:00, 149.00it/s]\n",
            "Plotting labels to runs/train/exp54/labels.jpg... \n",
            "\n",
            "\u001b[34m\u001b[1mAutoAnchor: \u001b[0m5.37 anchors/target, 1.000 Best Possible Recall (BPR). Current anchors are a good fit to dataset ✅\n",
            "Image sizes 640 train, 640 val\n",
            "Using 2 dataloader workers\n",
            "Logging results to \u001b[1mruns/train/exp54\u001b[0m\n",
            "Starting training for 30 epochs...\n",
            "\n",
            "     Epoch   gpu_mem       box       obj       cls    labels  img_size\n",
            "      0/29     12.6G   0.07265   0.08965   0.08144       389       640: 100% 80/80 [01:04<00:00,  1.25it/s]\n",
            "               Class     Images     Labels          P          R     mAP@.5 mAP@.5:.95: 100% 10/10 [00:07<00:00,  1.38it/s]\n",
            "                 all        638       4378      0.802       0.12      0.115     0.0509\n",
            "\n",
            "     Epoch   gpu_mem       box       obj       cls    labels  img_size\n",
            "      1/29     11.8G   0.05486   0.06963   0.06104       358       640: 100% 80/80 [01:02<00:00,  1.28it/s]\n",
            "               Class     Images     Labels          P          R     mAP@.5 mAP@.5:.95: 100% 10/10 [00:06<00:00,  1.45it/s]\n",
            "                 all        638       4378      0.892      0.215      0.267      0.116\n",
            "\n",
            "     Epoch   gpu_mem       box       obj       cls    labels  img_size\n",
            "      2/29     11.8G    0.0517   0.06518    0.0432       331       640: 100% 80/80 [01:02<00:00,  1.28it/s]\n",
            "               Class     Images     Labels          P          R     mAP@.5 mAP@.5:.95: 100% 10/10 [00:06<00:00,  1.63it/s]\n",
            "                 all        638       4377      0.915      0.318      0.353      0.216\n",
            "\n",
            "     Epoch   gpu_mem       box       obj       cls    labels  img_size\n",
            "      3/29     11.8G    0.0397   0.06437   0.02893       402       640: 100% 80/80 [01:03<00:00,  1.26it/s]\n",
            "               Class     Images     Labels          P          R     mAP@.5 mAP@.5:.95: 100% 10/10 [00:05<00:00,  1.72it/s]\n",
            "                 all        638       4378      0.907      0.374      0.451      0.304\n",
            "\n",
            "     Epoch   gpu_mem       box       obj       cls    labels  img_size\n",
            "      4/29     11.8G   0.03376   0.06041   0.02288       343       640: 100% 80/80 [01:03<00:00,  1.25it/s]\n",
            "               Class     Images     Labels          P          R     mAP@.5 mAP@.5:.95: 100% 10/10 [00:05<00:00,  1.79it/s]\n",
            "                 all        638       4377      0.684      0.524      0.586      0.405\n",
            "\n",
            "     Epoch   gpu_mem       box       obj       cls    labels  img_size\n",
            "      5/29     12.8G   0.03144   0.05956    0.0201       378       640: 100% 80/80 [01:03<00:00,  1.25it/s]\n",
            "               Class     Images     Labels          P          R     mAP@.5 mAP@.5:.95: 100% 10/10 [00:05<00:00,  1.80it/s]\n",
            "                 all        638       4378        0.9      0.495      0.671      0.499\n",
            "\n",
            "     Epoch   gpu_mem       box       obj       cls    labels  img_size\n",
            "      6/29     12.8G   0.02967   0.05886   0.01752       343       640: 100% 80/80 [01:04<00:00,  1.25it/s]\n",
            "               Class     Images     Labels          P          R     mAP@.5 mAP@.5:.95: 100% 10/10 [00:05<00:00,  1.87it/s]\n",
            "                 all        638       4376      0.846      0.567      0.686      0.505\n",
            "\n",
            "     Epoch   gpu_mem       box       obj       cls    labels  img_size\n",
            "      7/29     12.8G   0.02859   0.05778   0.01577       288       640: 100% 80/80 [01:04<00:00,  1.25it/s]\n",
            "               Class     Images     Labels          P          R     mAP@.5 mAP@.5:.95: 100% 10/10 [00:05<00:00,  1.93it/s]\n",
            "                 all        638       4375      0.751      0.712      0.744      0.546\n",
            "\n",
            "     Epoch   gpu_mem       box       obj       cls    labels  img_size\n",
            "      8/29     12.8G   0.02794   0.05737   0.01396       392       640: 100% 80/80 [01:04<00:00,  1.25it/s]\n",
            "               Class     Images     Labels          P          R     mAP@.5 mAP@.5:.95: 100% 10/10 [00:05<00:00,  1.94it/s]\n",
            "                 all        638       4377      0.881      0.666      0.764      0.577\n",
            "\n",
            "     Epoch   gpu_mem       box       obj       cls    labels  img_size\n",
            "      9/29     12.8G   0.02773    0.0571   0.01235       384       640: 100% 80/80 [01:04<00:00,  1.25it/s]\n",
            "               Class     Images     Labels          P          R     mAP@.5 mAP@.5:.95: 100% 10/10 [00:05<00:00,  1.92it/s]\n",
            "                 all        638       4378      0.923      0.666      0.803      0.583\n",
            "\n",
            "     Epoch   gpu_mem       box       obj       cls    labels  img_size\n",
            "     10/29     12.8G   0.02687   0.05617   0.01148       324       640: 100% 80/80 [01:04<00:00,  1.24it/s]\n",
            "               Class     Images     Labels          P          R     mAP@.5 mAP@.5:.95: 100% 10/10 [00:05<00:00,  1.92it/s]\n",
            "                 all        638       4378      0.831       0.75      0.837      0.615\n",
            "\n",
            "     Epoch   gpu_mem       box       obj       cls    labels  img_size\n",
            "     11/29     12.8G   0.02623    0.0571   0.01044       302       640: 100% 80/80 [01:04<00:00,  1.24it/s]\n",
            "               Class     Images     Labels          P          R     mAP@.5 mAP@.5:.95: 100% 10/10 [00:05<00:00,  1.96it/s]\n",
            "                 all        638       4378      0.887      0.748      0.863      0.644\n",
            "\n",
            "     Epoch   gpu_mem       box       obj       cls    labels  img_size\n",
            "     12/29     12.8G   0.02599   0.05584  0.009818       386       640: 100% 80/80 [01:04<00:00,  1.25it/s]\n",
            "               Class     Images     Labels          P          R     mAP@.5 mAP@.5:.95: 100% 10/10 [00:05<00:00,  1.92it/s]\n",
            "                 all        638       4378      0.928      0.738      0.879      0.631\n",
            "\n",
            "     Epoch   gpu_mem       box       obj       cls    labels  img_size\n",
            "     13/29     12.8G   0.02546   0.05561  0.009044       343       640: 100% 80/80 [01:04<00:00,  1.25it/s]\n",
            "               Class     Images     Labels          P          R     mAP@.5 mAP@.5:.95: 100% 10/10 [00:05<00:00,  1.78it/s]\n",
            "                 all        638       4378      0.781      0.843      0.888      0.629\n",
            "\n",
            "     Epoch   gpu_mem       box       obj       cls    labels  img_size\n",
            "     14/29     12.8G   0.02537   0.05626  0.008506       415       640: 100% 80/80 [01:04<00:00,  1.25it/s]\n",
            "               Class     Images     Labels          P          R     mAP@.5 mAP@.5:.95: 100% 10/10 [00:04<00:00,  2.00it/s]\n",
            "                 all        638       4378       0.97      0.742      0.899      0.675\n",
            "\n",
            "     Epoch   gpu_mem       box       obj       cls    labels  img_size\n",
            "     15/29     12.8G   0.02462    0.0545  0.008047       305       640: 100% 80/80 [01:04<00:00,  1.25it/s]\n",
            "               Class     Images     Labels          P          R     mAP@.5 mAP@.5:.95: 100% 10/10 [00:04<00:00,  2.01it/s]\n",
            "                 all        638       4378      0.834      0.844      0.907      0.671\n",
            "\n",
            "     Epoch   gpu_mem       box       obj       cls    labels  img_size\n",
            "     16/29     12.8G   0.02432   0.05471  0.007628       313       640: 100% 80/80 [01:04<00:00,  1.24it/s]\n",
            "               Class     Images     Labels          P          R     mAP@.5 mAP@.5:.95: 100% 10/10 [00:04<00:00,  2.01it/s]\n",
            "                 all        638       4378      0.912      0.832      0.918      0.663\n",
            "\n",
            "     Epoch   gpu_mem       box       obj       cls    labels  img_size\n",
            "     17/29     12.8G   0.02409   0.05536  0.007183       374       640: 100% 80/80 [01:04<00:00,  1.24it/s]\n",
            "               Class     Images     Labels          P          R     mAP@.5 mAP@.5:.95: 100% 10/10 [00:04<00:00,  2.06it/s]\n",
            "                 all        638       4377       0.91      0.821      0.908      0.627\n",
            "\n",
            "     Epoch   gpu_mem       box       obj       cls    labels  img_size\n",
            "     18/29     12.8G   0.02346    0.0544  0.006979       348       640: 100% 80/80 [01:04<00:00,  1.24it/s]\n",
            "               Class     Images     Labels          P          R     mAP@.5 mAP@.5:.95: 100% 10/10 [00:04<00:00,  2.07it/s]\n",
            "                 all        638       4378        0.9      0.845      0.918      0.661\n",
            "\n",
            "     Epoch   gpu_mem       box       obj       cls    labels  img_size\n",
            "     19/29     12.8G   0.02331   0.05384  0.006749       272       640: 100% 80/80 [01:04<00:00,  1.24it/s]\n",
            "               Class     Images     Labels          P          R     mAP@.5 mAP@.5:.95: 100% 10/10 [00:04<00:00,  2.06it/s]\n",
            "                 all        638       4378      0.916      0.845      0.919      0.667\n",
            "\n",
            "     Epoch   gpu_mem       box       obj       cls    labels  img_size\n",
            "     20/29     12.8G   0.02292   0.05389  0.006348       328       640: 100% 80/80 [01:04<00:00,  1.23it/s]\n",
            "               Class     Images     Labels          P          R     mAP@.5 mAP@.5:.95: 100% 10/10 [00:04<00:00,  2.07it/s]\n",
            "                 all        638       4378      0.902       0.86      0.925      0.677\n",
            "\n",
            "     Epoch   gpu_mem       box       obj       cls    labels  img_size\n",
            "     21/29     12.8G   0.02248   0.05372  0.006116       289       640: 100% 80/80 [01:04<00:00,  1.24it/s]\n",
            "               Class     Images     Labels          P          R     mAP@.5 mAP@.5:.95: 100% 10/10 [00:04<00:00,  2.08it/s]\n",
            "                 all        638       4378      0.881      0.841      0.909      0.663\n",
            "\n",
            "     Epoch   gpu_mem       box       obj       cls    labels  img_size\n",
            "     22/29     12.8G   0.02242   0.05329  0.006023       348       640: 100% 80/80 [01:04<00:00,  1.24it/s]\n",
            "               Class     Images     Labels          P          R     mAP@.5 mAP@.5:.95: 100% 10/10 [00:04<00:00,  2.11it/s]\n",
            "                 all        638       4378      0.874      0.895      0.925      0.687\n",
            "\n",
            "     Epoch   gpu_mem       box       obj       cls    labels  img_size\n",
            "     23/29     12.8G   0.02236   0.05292   0.00587       357       640: 100% 80/80 [01:04<00:00,  1.23it/s]\n",
            "               Class     Images     Labels          P          R     mAP@.5 mAP@.5:.95: 100% 10/10 [00:04<00:00,  2.03it/s]\n",
            "                 all        638       4378      0.925      0.856      0.928      0.695\n",
            "\n",
            "     Epoch   gpu_mem       box       obj       cls    labels  img_size\n",
            "     24/29     12.8G   0.02151   0.05218  0.005599       412       640: 100% 80/80 [01:04<00:00,  1.24it/s]\n",
            "               Class     Images     Labels          P          R     mAP@.5 mAP@.5:.95: 100% 10/10 [00:04<00:00,  2.14it/s]\n",
            "                 all        638       4378      0.879      0.891      0.928      0.689\n",
            "\n",
            "     Epoch   gpu_mem       box       obj       cls    labels  img_size\n",
            "     25/29     12.8G   0.02152    0.0533  0.005321       395       640: 100% 80/80 [01:04<00:00,  1.24it/s]\n",
            "               Class     Images     Labels          P          R     mAP@.5 mAP@.5:.95: 100% 10/10 [00:04<00:00,  2.15it/s]\n",
            "                 all        638       4378      0.911      0.888      0.938      0.706\n",
            "\n",
            "     Epoch   gpu_mem       box       obj       cls    labels  img_size\n",
            "     26/29     12.8G   0.02129   0.05296  0.005149       310       640: 100% 80/80 [01:04<00:00,  1.24it/s]\n",
            "               Class     Images     Labels          P          R     mAP@.5 mAP@.5:.95: 100% 10/10 [00:04<00:00,  2.15it/s]\n",
            "                 all        638       4378      0.898      0.886      0.929      0.684\n",
            "\n",
            "     Epoch   gpu_mem       box       obj       cls    labels  img_size\n",
            "     27/29     12.8G   0.02087   0.05219  0.005061       355       640: 100% 80/80 [01:04<00:00,  1.25it/s]\n",
            "               Class     Images     Labels          P          R     mAP@.5 mAP@.5:.95: 100% 10/10 [00:04<00:00,  2.23it/s]\n",
            "                 all        638       4378      0.918      0.882      0.928      0.687\n",
            "\n",
            "     Epoch   gpu_mem       box       obj       cls    labels  img_size\n",
            "     28/29     12.8G   0.02065   0.05252  0.004985       370       640: 100% 80/80 [01:04<00:00,  1.25it/s]\n",
            "               Class     Images     Labels          P          R     mAP@.5 mAP@.5:.95: 100% 10/10 [00:04<00:00,  2.28it/s]\n",
            "                 all        638       4378      0.936      0.878      0.934      0.683\n",
            "\n",
            "     Epoch   gpu_mem       box       obj       cls    labels  img_size\n",
            "     29/29     12.8G   0.02052   0.05111  0.004698       327       640: 100% 80/80 [01:04<00:00,  1.24it/s]\n",
            "               Class     Images     Labels          P          R     mAP@.5 mAP@.5:.95: 100% 10/10 [00:04<00:00,  2.31it/s]\n",
            "                 all        638       4377      0.923      0.892      0.936      0.699\n",
            "\n",
            "30 epochs completed in 0.592 hours.\n",
            "Optimizer stripped from runs/train/exp54/weights/last.pt, 42.5MB\n",
            "Optimizer stripped from runs/train/exp54/weights/best.pt, 42.5MB\n",
            "\n",
            "Validating runs/train/exp54/weights/best.pt...\n",
            "Fusing layers... \n",
            "Model summary: 290 layers, 20994369 parameters, 0 gradients, 48.4 GFLOPs\n",
            "               Class     Images     Labels          P          R     mAP@.5 mAP@.5:.95: 100% 10/10 [00:07<00:00,  1.31it/s]\n",
            "                 all        638       4378      0.911      0.888      0.938      0.706\n",
            "                   0        638        327      0.973      0.991      0.989      0.746\n",
            "                   1        638        403      0.919      0.929      0.963      0.622\n",
            "                   2        638        337      0.988       0.95      0.975      0.728\n",
            "                   3        638        341       0.99      0.862      0.959      0.691\n",
            "                   4        638        371      0.985      0.976      0.987      0.738\n",
            "                   5        638        347      0.997      0.964      0.984      0.731\n",
            "                   6        638        345      0.959      0.977      0.988      0.747\n",
            "                   7        638        351      0.984      0.923      0.957      0.713\n",
            "                   8        638        407      0.851      0.983       0.96      0.681\n",
            "                   9        638        350      0.989      0.994      0.994      0.744\n",
            "                   A        638         44      0.985          1      0.995      0.714\n",
            "                   B        638        523      0.988      0.934      0.982      0.749\n",
            "                   C        638         30      0.938      0.833      0.838      0.662\n",
            "                   D        638          8      0.909          1      0.995      0.759\n",
            "                   E        638         16          1      0.889      0.937      0.704\n",
            "                   F        638          6      0.884          1      0.995      0.791\n",
            "                   G        638          2      0.283          1      0.995      0.895\n",
            "                   H        638          5      0.697          1      0.995      0.773\n",
            "                   I        638         12       0.69       0.19      0.839      0.461\n",
            "                   J        638         12          1      0.752      0.963      0.723\n",
            "                   K        638          2      0.842          1      0.995      0.821\n",
            "                   L        638         11      0.965          1      0.995      0.744\n",
            "                   M        638         20          1      0.656      0.995      0.785\n",
            "                   N        638          5          1      0.798      0.816       0.62\n",
            "                   O        638          1          1          0   0.000494   0.000395\n",
            "                   P        638          6        0.9          1      0.995      0.792\n",
            "                   R        638          2      0.756          1      0.995      0.746\n",
            "                   S        638          8      0.929          1      0.995      0.702\n",
            "                   T        638         22          1      0.929      0.993      0.756\n",
            "                   V        638          2      0.793          1      0.995      0.796\n",
            "                   X        638          6      0.955          1      0.995      0.696\n",
            "                   Z        638         56          1        0.9      0.964      0.754\n",
            "Results saved to \u001b[1mruns/train/exp54\u001b[0m\n"
          ]
        }
      ],
      "source": [
        "# Train YOLOv5\n",
        "!python train.py --img 640 --batch 32 --epochs 30 --data /content/drive/MyDrive/works/yolov5/data/char_detect.yaml --weights yolov5m.pt --cache"
      ]
    }
  ],
  "metadata": {
    "accelerator": "GPU",
    "colab": {
      "collapsed_sections": [],
      "name": "Letter_detection",
      "provenance": []
    },
    "kernelspec": {
      "display_name": "Python 3",
      "name": "python3"
    }
  },
  "nbformat": 4,
  "nbformat_minor": 0
}
